{
 "cells": [
  {
   "cell_type": "markdown",
   "id": "dbdebd65-9312-4164-a58f-5b59232c1210",
   "metadata": {},
   "source": [
    "# Model Definition for Chest X-Ray Classification\n",
    "\n",
    "This notebook defines the model architecture using a pretrained ResNet-18 model. The final fully connected layer is modified to output 5 classes corresponding to the different respiratory diseases."
   ]
  },
  {
   "cell_type": "code",
   "execution_count": 1,
   "id": "05f73fe7-9924-481b-99b2-814e218d0045",
   "metadata": {},
   "outputs": [],
   "source": [
    "import torch.nn as nn\n",
    "from torchvision.models.resnet import resnet18, ResNet18_Weights"
   ]
  },
  {
   "cell_type": "code",
   "execution_count": 2,
   "id": "d1b134eb-89f5-459a-ab19-4d6dac77cd59",
   "metadata": {},
   "outputs": [],
   "source": [
    "def create_model(num_classes=5):\n",
    "    \"\"\"\n",
    "    Create a ResNet-18 model with a modified final layer for the given number of classes.\n",
    "    \n",
    "    Args:\n",
    "        num_classes (int): Number of output classes.\n",
    "    \n",
    "    Returns:\n",
    "        model (nn.Module): Modified ResNet-18 model.\n",
    "    \"\"\"\n",
    "    model = resnet18(weights=ResNet18_Weights.IMAGENET1K_V1)\n",
    "    num_ftrs = model.fc.in_features\n",
    "    model.fc = nn.Sequential(\n",
    "        nn.Dropout(0.5),\n",
    "        nn.Linear(num_ftrs, num_classes)  # 5 classes\n",
    "    )\n",
    "    return model"
   ]
  },
  {
   "cell_type": "code",
   "execution_count": null,
   "id": "b9f5deb3-c3af-4692-951c-915fc1bc1c70",
   "metadata": {},
   "outputs": [],
   "source": []
  }
 ],
 "metadata": {
  "kernelspec": {
   "display_name": "Python 3 (ipykernel)",
   "language": "python",
   "name": "python3"
  },
  "language_info": {
   "codemirror_mode": {
    "name": "ipython",
    "version": 3
   },
   "file_extension": ".py",
   "mimetype": "text/x-python",
   "name": "python",
   "nbconvert_exporter": "python",
   "pygments_lexer": "ipython3",
   "version": "3.11.5"
  }
 },
 "nbformat": 4,
 "nbformat_minor": 5
}
