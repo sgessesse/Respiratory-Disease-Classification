{
 "cells": [
  {
   "cell_type": "markdown",
   "id": "f7f89bd1-f197-496f-8460-2e0ac2ce9a74",
   "metadata": {},
   "source": [
    "# Inference for Chest X-Ray Classification\r\n",
    "\r\n",
    "This notebook handles the inference part of the project. It loads the trained model and uses it to predict the class of a given chest X-ray image."
   ]
  },
  {
   "cell_type": "code",
   "execution_count": 1,
   "id": "5247f4bd-3c47-4bd1-92ca-f5102907ca2f",
   "metadata": {},
   "outputs": [],
   "source": [
    "import torch\n",
    "from torchvision import transforms\n",
    "from torchvision.models.resnet import resnet18, ResNet18_Weights\n",
    "from torch.utils.data import DataLoader, TensorDataset\n",
    "import torch.nn as nn\n",
    "from pathlib import Path\n",
    "import numpy as np\n",
    "from PIL import Image"
   ]
  },
  {
   "cell_type": "code",
   "execution_count": 2,
   "id": "0d5165ca-5064-4aea-907e-47903cb5ceef",
   "metadata": {},
   "outputs": [],
   "source": [
    "def load_model(model_path):\n",
    "    \"\"\"\n",
    "    Load the trained model from the given path.\n",
    "    \n",
    "    Args:\n",
    "        model_path (str): Path to the saved model.\n",
    "    \n",
    "    Returns:\n",
    "        model (nn.Module): Loaded model.\n",
    "    \"\"\"\n",
    "    model = resnet18(weights=None)\n",
    "    num_ftrs = model.fc.in_features\n",
    "    model.fc = nn.Sequential(\n",
    "        nn.Dropout(0.5),\n",
    "        nn.Linear(num_ftrs, 5)  # 5 classes\n",
    "    )\n",
    "    device = torch.device(\"cuda\" if torch.cuda.is_available() else \"cpu\")\n",
    "    model.load_state_dict(torch.load(model_path))\n",
    "    model.to(device)\n",
    "    return model"
   ]
  },
  {
   "cell_type": "code",
   "execution_count": 3,
   "id": "8d2a23b4-15fe-4ef0-aff8-f489746b9ce7",
   "metadata": {},
   "outputs": [],
   "source": [
    "class Predictor:\n",
    "    def __init__(self, model):\n",
    "        \"\"\"\n",
    "        Initialize the Predictor with the trained model.\n",
    "        \n",
    "        Args:\n",
    "            model (nn.Module): Trained model.\n",
    "        \"\"\"\n",
    "        self.model = model\n",
    "        self.transform = transforms.Compose([\n",
    "            transforms.Resize((224, 224)),\n",
    "            transforms.ToTensor(),\n",
    "            transforms.Normalize(mean=[0.485, 0.456, 0.406], std=[0.229, 0.224, 0.225])\n",
    "        ])\n",
    "\n",
    "    def preprocess_image(self, img_path):\n",
    "        \"\"\"\n",
    "        Preprocess the image for model input.\n",
    "        \n",
    "        Args:\n",
    "            img_path (str): Path to the image file.\n",
    "        \n",
    "        Returns:\n",
    "            image (torch.Tensor): Preprocessed image tensor.\n",
    "        \"\"\"\n",
    "        image = Image.open(img_path)\n",
    "        image = self.transform(image).unsqueeze(0)\n",
    "        return image\n",
    "\n",
    "    def predict(self, img_path):\n",
    "        \"\"\"\n",
    "        Predict the class of the given image.\n",
    "        \n",
    "        Args:\n",
    "            img_path (str): Path to the image file.\n",
    "        \n",
    "        Returns:\n",
    "            str: Predicted class label.\n",
    "        \"\"\"\n",
    "        processed_img = self.preprocess_image(img_path).to(torch.device(\"cuda\" if torch.cuda.is_available() else \"cpu\"))\n",
    "        with torch.no_grad():\n",
    "            outputs = self.model(processed_img)\n",
    "            _, predicted = torch.max(outputs, 1)\n",
    "        classes = [\"COVID-19\", \"Lung-Opacity\", \"Normal\", \"Viral Pneumonia\", \"Tuberculosis\"]\n",
    "        return classes[predicted.item()]"
   ]
  },
  {
   "cell_type": "code",
   "execution_count": null,
   "id": "2d9d2c6c-e3ac-4fca-b50e-c5fc650a5186",
   "metadata": {},
   "outputs": [],
   "source": []
  }
 ],
 "metadata": {
  "kernelspec": {
   "display_name": "Python 3 (ipykernel)",
   "language": "python",
   "name": "python3"
  },
  "language_info": {
   "codemirror_mode": {
    "name": "ipython",
    "version": 3
   },
   "file_extension": ".py",
   "mimetype": "text/x-python",
   "name": "python",
   "nbconvert_exporter": "python",
   "pygments_lexer": "ipython3",
   "version": "3.11.5"
  }
 },
 "nbformat": 4,
 "nbformat_minor": 5
}
