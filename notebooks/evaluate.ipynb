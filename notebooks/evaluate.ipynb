{
 "cells": [
  {
   "cell_type": "markdown",
   "id": "a5aa6f25-5f64-4d72-b879-183c263ce4fa",
   "metadata": {},
   "source": [
    "# Model Evaluation for Chest X-Ray Classification\r\n",
    "\r\n",
    "This notebook handles the evaluation of the trained model. It calculates the accuracy, F1 score, and generates a confusion matrix to analyze the model's performance on the test dataset."
   ]
  },
  {
   "cell_type": "code",
   "execution_count": 1,
   "id": "50c2fa19-1492-4d32-966d-1d3568552881",
   "metadata": {},
   "outputs": [],
   "source": [
    "import numpy as np\n",
    "from sklearn.metrics import accuracy_score, f1_score, confusion_matrix\n",
    "import matplotlib.pyplot as plt\n",
    "import seaborn as sns\n",
    "import torch"
   ]
  },
  {
   "cell_type": "code",
   "execution_count": 2,
   "id": "1b357f7e-d6d2-4eaf-a04f-d2dca91c9ed6",
   "metadata": {},
   "outputs": [],
   "source": [
    "def evaluate_model(model, test_dl):\n",
    "     \"\"\"\n",
    "    Evaluate the model on the test dataset.\n",
    "    \n",
    "    Args:\n",
    "        model (nn.Module): Trained model.\n",
    "        test_dl (DataLoader): DataLoader for the test dataset.\n",
    "    \"\"\"\n",
    "    device = torch.device(\"cuda\")\n",
    "    model.to(device)\n",
    "\n",
    "    model.eval()\n",
    "    true_labels = []\n",
    "    predicted_labels = []\n",
    "\n",
    "    with torch.no_grad():\n",
    "        for inputs, labels in test_dl:\n",
    "            inputs = inputs.to(device)\n",
    "            labels = labels.to(device)\n",
    "\n",
    "            outputs = model(inputs)\n",
    "            _, predicted = torch.max(outputs, 1)\n",
    "\n",
    "            true_labels.extend(labels.cpu().numpy())\n",
    "            predicted_labels.extend(predicted.cpu().numpy())\n",
    "\n",
    "    # Calculate accuracy and F1 score\n",
    "    accuracy = accuracy_score(true_labels, predicted_labels)\n",
    "    f1 = f1_score(true_labels, predicted_labels, average='weighted')\n",
    "\n",
    "    print(f\"Accuracy on Test Set: {accuracy}\")\n",
    "    print(f\"F1 Score on Test Set: {f1}\")\n",
    "\n",
    "    # Calculate the confusion matrix\n",
    "    cm = confusion_matrix(true_labels, predicted_labels)\n",
    "    classes = [\"COVID-19\", \"Lung-Opacity\", \"Normal\", \"Viral Pneumonia\", \"Tuberculosis\"]\n",
    "\n",
    "    # Create plot with manual axis configuration\n",
    "    fig, ax = plt.subplots(figsize=(12, 10))\n",
    "    \n",
    "    # Plot heatmap WITHOUT Seaborn's automatic annotations\n",
    "    sns.heatmap(cm, cmap='Blues', ax=ax, annot=False, cbar=False)\n",
    "    \n",
    "    # Manually set axis ticks and labels\n",
    "    ax.set_xticks(np.arange(len(classes)) + 0.5)\n",
    "    ax.set_xticklabels(classes, rotation=45, ha='right')\n",
    "    ax.set_yticks(np.arange(len(classes)) + 0.5)\n",
    "    ax.set_yticklabels(classes, rotation=0)\n",
    "\n",
    "    # Add annotations manually to ensure they appear\n",
    "    for i in range(len(classes)):\n",
    "        for j in range(len(classes)):\n",
    "            ax.text(j + 0.5, i + 0.5, str(cm[i, j]),\n",
    "                    ha='center', va='center',\n",
    "                    color='black' if cm[i, j] < cm.max()/2 else 'white')\n",
    "\n",
    "    plt.xlabel('Predicted')\n",
    "    plt.ylabel('True')\n",
    "    plt.title('Confusion Matrix')\n",
    "    plt.tight_layout()\n",
    "    plt.show()"
   ]
  },
  {
   "cell_type": "code",
   "execution_count": null,
   "id": "74f488e0-52d0-4f56-8a86-bea3400883e9",
   "metadata": {},
   "outputs": [],
   "source": []
  }
 ],
 "metadata": {
  "kernelspec": {
   "display_name": "Python 3 (ipykernel)",
   "language": "python",
   "name": "python3"
  },
  "language_info": {
   "codemirror_mode": {
    "name": "ipython",
    "version": 3
   },
   "file_extension": ".py",
   "mimetype": "text/x-python",
   "name": "python",
   "nbconvert_exporter": "python",
   "pygments_lexer": "ipython3",
   "version": "3.11.5"
  }
 },
 "nbformat": 4,
 "nbformat_minor": 5
}
