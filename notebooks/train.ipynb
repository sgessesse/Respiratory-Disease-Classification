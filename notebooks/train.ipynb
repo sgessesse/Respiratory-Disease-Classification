{
 "cells": [
  {
   "cell_type": "markdown",
   "id": "a8b17d26-547d-4a34-ba64-688e2309419e",
   "metadata": {},
   "source": [
    "# Model Training for Chest X-Ray Classification\r\n",
    "\r\n",
    "This notebook handles the training of the model. It uses the training and validation datasets to train the model and implements early stopping to prevent overfitting."
   ]
  },
  {
   "cell_type": "code",
   "execution_count": 1,
   "id": "53bf89f1-ee4b-4427-91cb-7e30664f03f6",
   "metadata": {},
   "outputs": [],
   "source": [
    "import torch\n",
    "import torch.optim as optim\n",
    "from torch.optim.lr_scheduler import ReduceLROnPlateau\n",
    "import torch.nn as nn\n",
    "import numpy as np"
   ]
  },
  {
   "cell_type": "code",
   "execution_count": 2,
   "id": "f8b67875-caee-404c-8594-5d313f9e0340",
   "metadata": {},
   "outputs": [],
   "source": [
    "def train_model(model, train_dl, val_dl, epochs=50, patience=15):\n",
    "    \"\"\"\n",
    "    Train the model using the given datasets.\n",
    "    \n",
    "    Args:\n",
    "        model (nn.Module): Model to be trained.\n",
    "        train_dl (DataLoader): DataLoader for the training dataset.\n",
    "        val_dl (DataLoader): DataLoader for the validation dataset.\n",
    "        epochs (int): Number of epochs to train.\n",
    "        patience (int): Number of epochs to wait for improvement before early stopping.\n",
    "    \n",
    "    Returns:\n",
    "        model (nn.Module): Trained model.\n",
    "    \"\"\"\n",
    "    device = torch.device(\"cuda\")\n",
    "    model.to(device)\n",
    "\n",
    "    criterion = nn.CrossEntropyLoss()\n",
    "    optimizer = optim.Adam(model.parameters(), lr=0.001, weight_decay=1e-4)\n",
    "    scheduler = ReduceLROnPlateau(optimizer, mode='min', factor=0.1, patience=5, verbose=True)\n",
    "\n",
    "    best_val_loss = float('inf')\n",
    "    epochs_no_improve = 0\n",
    "    best_model_state = None\n",
    "\n",
    "    for epoch in range(epochs):\n",
    "        model.train()\n",
    "        running_loss = 0.0\n",
    "        for inputs, labels in train_dl:\n",
    "            inputs, labels = inputs.to(device), labels.to(device)\n",
    "\n",
    "            optimizer.zero_grad()\n",
    "\n",
    "            outputs = model(inputs)\n",
    "            loss = criterion(outputs, labels)\n",
    "            loss.backward()\n",
    "            optimizer.step()\n",
    "\n",
    "            running_loss += loss.item()\n",
    "\n",
    "        # Validation phase\n",
    "        model.eval()\n",
    "        running_val_loss = 0.0\n",
    "        with torch.no_grad():\n",
    "            for inputs, labels in val_dl:\n",
    "                inputs, labels = inputs.to(device), labels.to(device)\n",
    "\n",
    "                outputs = model(inputs)\n",
    "                val_loss = criterion(outputs, labels)\n",
    "                running_val_loss += val_loss.item()\n",
    "\n",
    "        # Check for improvement\n",
    "        current_val_loss = running_val_loss / len(val_dl)\n",
    "        print(f\"Epoch {epoch+1}, Training Loss: {running_loss / len(train_dl)}\")\n",
    "        print(f\"Epoch {epoch+1}, Validation Loss: {current_val_loss}\")\n",
    "\n",
    "        if current_val_loss < best_val_loss:\n",
    "            best_val_loss = current_val_loss\n",
    "            epochs_no_improve = 0\n",
    "            best_model_state = model.state_dict()\n",
    "        else:\n",
    "            epochs_no_improve += 1\n",
    "\n",
    "        # Early stopping check\n",
    "        if epochs_no_improve == patience:\n",
    "            print('Early stopping triggered')\n",
    "            break\n",
    "\n",
    "        # Step the scheduler\n",
    "        scheduler.step(running_val_loss / len(val_dl))\n",
    "    \n",
    "    model.load_state_dict(best_model_state)\n",
    "    return model"
   ]
  },
  {
   "cell_type": "code",
   "execution_count": null,
   "id": "9a48b5ed-116d-46cf-951b-a0a910eea133",
   "metadata": {},
   "outputs": [],
   "source": []
  }
 ],
 "metadata": {
  "kernelspec": {
   "display_name": "Python 3 (ipykernel)",
   "language": "python",
   "name": "python3"
  },
  "language_info": {
   "codemirror_mode": {
    "name": "ipython",
    "version": 3
   },
   "file_extension": ".py",
   "mimetype": "text/x-python",
   "name": "python",
   "nbconvert_exporter": "python",
   "pygments_lexer": "ipython3",
   "version": "3.11.5"
  }
 },
 "nbformat": 4,
 "nbformat_minor": 5
}
