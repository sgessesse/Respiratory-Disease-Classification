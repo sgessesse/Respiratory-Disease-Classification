{
 "cells": [
  {
   "cell_type": "markdown",
   "id": "f3145ff0-b765-4dc8-a578-f1cba280ef0e",
   "metadata": {},
   "source": [
    "# Data Preprocessing for Chest X-Ray Classification\n",
    "This notebook handles the loading and preprocessing of the chest X-ray dataset. The dataset is divided into training, validation, and test sets. Each set contains images and their corresponding labels. The images are normalized and converted to PyTorch tensors for model training."
   ]
  },
  {
   "cell_type": "code",
   "execution_count": 2,
   "id": "e558f7ce-b1c9-4d7d-9752-9ce0757a4eba",
   "metadata": {},
   "outputs": [],
   "source": [
    "import numpy as np\n",
    "import torch\n",
    "from torchvision import transforms, models\n",
    "from torch.utils.data import TensorDataset, DataLoader\n",
    "from pathlib import Path"
   ]
  },
  {
   "cell_type": "code",
   "execution_count": 2,
   "id": "6eeea59e-54bd-4bd1-85f7-6c2ffdbbf2da",
   "metadata": {},
   "outputs": [],
   "source": [
    "def load_data(path):\n",
    "    \"\"\"\n",
    "    Load the dataset from the given path and preprocess it.\n",
    "    \n",
    "    Args:\n",
    "        path (Path): Path to the dataset files.\n",
    "    \n",
    "    Returns:\n",
    "        train_ds (TensorDataset): Training dataset.\n",
    "        val_ds (TensorDataset): Validation dataset.\n",
    "        test_ds (TensorDataset): Test dataset.\n",
    "    \"\"\"\n",
    "    \n",
    "    train_data = np.load(path/\"Dataset5_raw_train.npz\")\n",
    "    val_data = np.load(path/\"Dataset5_raw_val.npz\")\n",
    "    test_data = np.load(path/\"Dataset5_raw_test.npz\")\n",
    "\n",
    "    # Define class labels\n",
    "    classes = [\"COVID-19\", \"Lung-Opacity\", \"Normal\", \"Viral Pneumonia\", \"Tuberculosis\"]\n",
    "\n",
    "    # Extract data from dictionaries\n",
    "    train_images = train_data[\"image\"].astype(np.float16)\n",
    "    val_images = val_data[\"image\"].astype(np.float16)\n",
    "    test_images = test_data[\"image\"].astype(np.float16)\n",
    "    train_labels = train_data[\"image_label\"].astype(int)\n",
    "    val_labels = val_data[\"image_label\"].astype(int)\n",
    "    test_labels = test_data[\"image_label\"].astype(int)\n",
    "\n",
    "    # Convert numpy arrays to PyTorch tensors\n",
    "    train_x = torch.tensor(train_images).float().permute(0, 3, 1, 2) / 255\n",
    "    train_y = torch.tensor(train_labels).long().squeeze()\n",
    "    val_x = torch.tensor(val_images).float().permute(0, 3, 1, 2) / 255\n",
    "    val_y = torch.tensor(val_labels).long().squeeze()\n",
    "    test_x = torch.tensor(test_images).float().permute(0, 3, 1, 2) / 255\n",
    "    test_y = torch.tensor(test_labels).long().squeeze()\n",
    "\n",
    "   # Create TensorDatasets\n",
    "    train_ds = TensorDataset(train_x, train_y)\n",
    "    val_ds = TensorDataset(val_x, val_y)\n",
    "    test_ds = TensorDataset(test_x, test_y)\n",
    "\n",
    "    return train_ds, val_ds, test_ds"
   ]
  },
  {
   "cell_type": "code",
   "execution_count": 3,
   "id": "6531826c-5105-49bd-8fd5-bdf449104278",
   "metadata": {},
   "outputs": [],
   "source": [
    "def create_data_loaders(train_ds, val_ds, test_ds, batch_size=64):\n",
    "    \"\"\"\n",
    "    Create DataLoader objects for training, validation, and test datasets.\n",
    "\n",
    "    Args:\n",
    "        train_ds (TensorDataset): Training dataset.\n",
    "        val_ds (TensorDataset): Validation dataset.\n",
    "        test_ds (TensorDataset): Test dataset.\n",
    "        batch_size (int): Batch size for DataLoader.\n",
    "    \n",
    "    Returns:\n",
    "        train_dl (DataLoader): DataLoader for training dataset.\n",
    "        val_dl (DataLoader): DataLoader for validation dataset.\n",
    "        test_dl (DataLoader): DataLoader for test dataset.\n",
    "    \"\"\"\n",
    "    train_dl = DataLoader(train_ds, batch_size=batch_size, shuffle=True)\n",
    "    val_dl = DataLoader(val_ds, batch_size=batch_size)\n",
    "    test_dl = DataLoader(test_ds, batch_size=batch_size)\n",
    "    return train_dl, val_dl, test_dl"
   ]
  },
  {
   "cell_type": "code",
   "execution_count": null,
   "id": "67af33ae-1023-4ea2-b757-a902e7a39722",
   "metadata": {},
   "outputs": [],
   "source": []
  }
 ],
 "metadata": {
  "kernelspec": {
   "display_name": "Python 3 (ipykernel)",
   "language": "python",
   "name": "python3"
  },
  "language_info": {
   "codemirror_mode": {
    "name": "ipython",
    "version": 3
   },
   "file_extension": ".py",
   "mimetype": "text/x-python",
   "name": "python",
   "nbconvert_exporter": "python",
   "pygments_lexer": "ipython3",
   "version": "3.11.5"
  }
 },
 "nbformat": 4,
 "nbformat_minor": 5
}
